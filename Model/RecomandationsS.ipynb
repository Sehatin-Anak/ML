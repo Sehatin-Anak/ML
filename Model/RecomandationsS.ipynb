{
  "cells": [
    {
      "cell_type": "markdown",
      "metadata": {
        "colab_type": "text",
        "id": "view-in-github"
      },
      "source": [
        "<a href=\"https://colab.research.google.com/github/AffanSurya/SenakApp_ML/blob/main/Model/RecomandationsS.ipynb\" target=\"_parent\"><img src=\"https://colab.research.google.com/assets/colab-badge.svg\" alt=\"Open In Colab\"/></a>"
      ]
    },
    {
      "cell_type": "code",
      "execution_count": 1,
      "metadata": {
        "colab": {
          "base_uri": "https://localhost:8080/"
        },
        "id": "eZ7JkJGFRFj8",
        "outputId": "5608af81-460f-4e49-8db8-429dc344813e"
      },
      "outputs": [
        {
          "name": "stdout",
          "output_type": "stream",
          "text": [
            "Requirement already satisfied: tensorflow_recommenders in d:\\kuliah\\bangkit\\capstone\\ml\\api\\venv\\lib\\site-packages (0.7.3)\n",
            "Requirement already satisfied: absl-py>=0.1.6 in d:\\kuliah\\bangkit\\capstone\\ml\\api\\venv\\lib\\site-packages (from tensorflow_recommenders) (2.0.0)\n",
            "Requirement already satisfied: tensorflow>=2.9.0 in d:\\kuliah\\bangkit\\capstone\\ml\\api\\venv\\lib\\site-packages (from tensorflow_recommenders) (2.15.0)\n",
            "Requirement already satisfied: tensorflow-intel==2.15.0 in d:\\kuliah\\bangkit\\capstone\\ml\\api\\venv\\lib\\site-packages (from tensorflow>=2.9.0->tensorflow_recommenders) (2.15.0)\n",
            "Requirement already satisfied: astunparse>=1.6.0 in d:\\kuliah\\bangkit\\capstone\\ml\\api\\venv\\lib\\site-packages (from tensorflow-intel==2.15.0->tensorflow>=2.9.0->tensorflow_recommenders) (1.6.3)\n",
            "Requirement already satisfied: flatbuffers>=23.5.26 in d:\\kuliah\\bangkit\\capstone\\ml\\api\\venv\\lib\\site-packages (from tensorflow-intel==2.15.0->tensorflow>=2.9.0->tensorflow_recommenders) (23.5.26)\n",
            "Requirement already satisfied: gast!=0.5.0,!=0.5.1,!=0.5.2,>=0.2.1 in d:\\kuliah\\bangkit\\capstone\\ml\\api\\venv\\lib\\site-packages (from tensorflow-intel==2.15.0->tensorflow>=2.9.0->tensorflow_recommenders) (0.5.4)\n",
            "Requirement already satisfied: google-pasta>=0.1.1 in d:\\kuliah\\bangkit\\capstone\\ml\\api\\venv\\lib\\site-packages (from tensorflow-intel==2.15.0->tensorflow>=2.9.0->tensorflow_recommenders) (0.2.0)\n",
            "Requirement already satisfied: h5py>=2.9.0 in d:\\kuliah\\bangkit\\capstone\\ml\\api\\venv\\lib\\site-packages (from tensorflow-intel==2.15.0->tensorflow>=2.9.0->tensorflow_recommenders) (3.10.0)\n",
            "Requirement already satisfied: libclang>=13.0.0 in d:\\kuliah\\bangkit\\capstone\\ml\\api\\venv\\lib\\site-packages (from tensorflow-intel==2.15.0->tensorflow>=2.9.0->tensorflow_recommenders) (16.0.6)\n",
            "Requirement already satisfied: ml-dtypes~=0.2.0 in d:\\kuliah\\bangkit\\capstone\\ml\\api\\venv\\lib\\site-packages (from tensorflow-intel==2.15.0->tensorflow>=2.9.0->tensorflow_recommenders) (0.2.0)\n",
            "Requirement already satisfied: numpy<2.0.0,>=1.23.5 in d:\\kuliah\\bangkit\\capstone\\ml\\api\\venv\\lib\\site-packages (from tensorflow-intel==2.15.0->tensorflow>=2.9.0->tensorflow_recommenders) (1.26.2)\n",
            "Requirement already satisfied: opt-einsum>=2.3.2 in d:\\kuliah\\bangkit\\capstone\\ml\\api\\venv\\lib\\site-packages (from tensorflow-intel==2.15.0->tensorflow>=2.9.0->tensorflow_recommenders) (3.3.0)\n",
            "Requirement already satisfied: packaging in d:\\kuliah\\bangkit\\capstone\\ml\\api\\venv\\lib\\site-packages (from tensorflow-intel==2.15.0->tensorflow>=2.9.0->tensorflow_recommenders) (23.2)\n",
            "Requirement already satisfied: protobuf!=4.21.0,!=4.21.1,!=4.21.2,!=4.21.3,!=4.21.4,!=4.21.5,<5.0.0dev,>=3.20.3 in d:\\kuliah\\bangkit\\capstone\\ml\\api\\venv\\lib\\site-packages (from tensorflow-intel==2.15.0->tensorflow>=2.9.0->tensorflow_recommenders) (4.23.4)\n",
            "Requirement already satisfied: setuptools in d:\\kuliah\\bangkit\\capstone\\ml\\api\\venv\\lib\\site-packages (from tensorflow-intel==2.15.0->tensorflow>=2.9.0->tensorflow_recommenders) (65.5.0)\n",
            "Requirement already satisfied: six>=1.12.0 in d:\\kuliah\\bangkit\\capstone\\ml\\api\\venv\\lib\\site-packages (from tensorflow-intel==2.15.0->tensorflow>=2.9.0->tensorflow_recommenders) (1.16.0)\n",
            "Requirement already satisfied: termcolor>=1.1.0 in d:\\kuliah\\bangkit\\capstone\\ml\\api\\venv\\lib\\site-packages (from tensorflow-intel==2.15.0->tensorflow>=2.9.0->tensorflow_recommenders) (2.4.0)\n",
            "Requirement already satisfied: typing-extensions>=3.6.6 in d:\\kuliah\\bangkit\\capstone\\ml\\api\\venv\\lib\\site-packages (from tensorflow-intel==2.15.0->tensorflow>=2.9.0->tensorflow_recommenders) (4.9.0)\n",
            "Requirement already satisfied: wrapt<1.15,>=1.11.0 in d:\\kuliah\\bangkit\\capstone\\ml\\api\\venv\\lib\\site-packages (from tensorflow-intel==2.15.0->tensorflow>=2.9.0->tensorflow_recommenders) (1.14.1)\n",
            "Requirement already satisfied: tensorflow-io-gcs-filesystem>=0.23.1 in d:\\kuliah\\bangkit\\capstone\\ml\\api\\venv\\lib\\site-packages (from tensorflow-intel==2.15.0->tensorflow>=2.9.0->tensorflow_recommenders) (0.31.0)\n",
            "Requirement already satisfied: grpcio<2.0,>=1.24.3 in d:\\kuliah\\bangkit\\capstone\\ml\\api\\venv\\lib\\site-packages (from tensorflow-intel==2.15.0->tensorflow>=2.9.0->tensorflow_recommenders) (1.60.0)\n",
            "Requirement already satisfied: tensorboard<2.16,>=2.15 in d:\\kuliah\\bangkit\\capstone\\ml\\api\\venv\\lib\\site-packages (from tensorflow-intel==2.15.0->tensorflow>=2.9.0->tensorflow_recommenders) (2.15.1)\n",
            "Requirement already satisfied: tensorflow-estimator<2.16,>=2.15.0 in d:\\kuliah\\bangkit\\capstone\\ml\\api\\venv\\lib\\site-packages (from tensorflow-intel==2.15.0->tensorflow>=2.9.0->tensorflow_recommenders) (2.15.0)\n",
            "Requirement already satisfied: keras<2.16,>=2.15.0 in d:\\kuliah\\bangkit\\capstone\\ml\\api\\venv\\lib\\site-packages (from tensorflow-intel==2.15.0->tensorflow>=2.9.0->tensorflow_recommenders) (2.15.0)\n",
            "Requirement already satisfied: wheel<1.0,>=0.23.0 in d:\\kuliah\\bangkit\\capstone\\ml\\api\\venv\\lib\\site-packages (from astunparse>=1.6.0->tensorflow-intel==2.15.0->tensorflow>=2.9.0->tensorflow_recommenders) (0.42.0)\n",
            "Requirement already satisfied: google-auth<3,>=1.6.3 in d:\\kuliah\\bangkit\\capstone\\ml\\api\\venv\\lib\\site-packages (from tensorboard<2.16,>=2.15->tensorflow-intel==2.15.0->tensorflow>=2.9.0->tensorflow_recommenders) (2.25.2)\n",
            "Requirement already satisfied: google-auth-oauthlib<2,>=0.5 in d:\\kuliah\\bangkit\\capstone\\ml\\api\\venv\\lib\\site-packages (from tensorboard<2.16,>=2.15->tensorflow-intel==2.15.0->tensorflow>=2.9.0->tensorflow_recommenders) (1.2.0)\n",
            "Requirement already satisfied: markdown>=2.6.8 in d:\\kuliah\\bangkit\\capstone\\ml\\api\\venv\\lib\\site-packages (from tensorboard<2.16,>=2.15->tensorflow-intel==2.15.0->tensorflow>=2.9.0->tensorflow_recommenders) (3.5.1)\n",
            "Requirement already satisfied: requests<3,>=2.21.0 in d:\\kuliah\\bangkit\\capstone\\ml\\api\\venv\\lib\\site-packages (from tensorboard<2.16,>=2.15->tensorflow-intel==2.15.0->tensorflow>=2.9.0->tensorflow_recommenders) (2.31.0)\n",
            "Requirement already satisfied: tensorboard-data-server<0.8.0,>=0.7.0 in d:\\kuliah\\bangkit\\capstone\\ml\\api\\venv\\lib\\site-packages (from tensorboard<2.16,>=2.15->tensorflow-intel==2.15.0->tensorflow>=2.9.0->tensorflow_recommenders) (0.7.2)\n",
            "Requirement already satisfied: werkzeug>=1.0.1 in d:\\kuliah\\bangkit\\capstone\\ml\\api\\venv\\lib\\site-packages (from tensorboard<2.16,>=2.15->tensorflow-intel==2.15.0->tensorflow>=2.9.0->tensorflow_recommenders) (3.0.1)\n",
            "Requirement already satisfied: cachetools<6.0,>=2.0.0 in d:\\kuliah\\bangkit\\capstone\\ml\\api\\venv\\lib\\site-packages (from google-auth<3,>=1.6.3->tensorboard<2.16,>=2.15->tensorflow-intel==2.15.0->tensorflow>=2.9.0->tensorflow_recommenders) (5.3.2)\n",
            "Requirement already satisfied: pyasn1-modules>=0.2.1 in d:\\kuliah\\bangkit\\capstone\\ml\\api\\venv\\lib\\site-packages (from google-auth<3,>=1.6.3->tensorboard<2.16,>=2.15->tensorflow-intel==2.15.0->tensorflow>=2.9.0->tensorflow_recommenders) (0.3.0)\n",
            "Requirement already satisfied: rsa<5,>=3.1.4 in d:\\kuliah\\bangkit\\capstone\\ml\\api\\venv\\lib\\site-packages (from google-auth<3,>=1.6.3->tensorboard<2.16,>=2.15->tensorflow-intel==2.15.0->tensorflow>=2.9.0->tensorflow_recommenders) (4.9)\n",
            "Requirement already satisfied: requests-oauthlib>=0.7.0 in d:\\kuliah\\bangkit\\capstone\\ml\\api\\venv\\lib\\site-packages (from google-auth-oauthlib<2,>=0.5->tensorboard<2.16,>=2.15->tensorflow-intel==2.15.0->tensorflow>=2.9.0->tensorflow_recommenders) (1.3.1)\n",
            "Requirement already satisfied: charset-normalizer<4,>=2 in d:\\kuliah\\bangkit\\capstone\\ml\\api\\venv\\lib\\site-packages (from requests<3,>=2.21.0->tensorboard<2.16,>=2.15->tensorflow-intel==2.15.0->tensorflow>=2.9.0->tensorflow_recommenders) (3.3.2)\n",
            "Requirement already satisfied: idna<4,>=2.5 in d:\\kuliah\\bangkit\\capstone\\ml\\api\\venv\\lib\\site-packages (from requests<3,>=2.21.0->tensorboard<2.16,>=2.15->tensorflow-intel==2.15.0->tensorflow>=2.9.0->tensorflow_recommenders) (3.6)\n",
            "Requirement already satisfied: urllib3<3,>=1.21.1 in d:\\kuliah\\bangkit\\capstone\\ml\\api\\venv\\lib\\site-packages (from requests<3,>=2.21.0->tensorboard<2.16,>=2.15->tensorflow-intel==2.15.0->tensorflow>=2.9.0->tensorflow_recommenders) (2.1.0)\n",
            "Requirement already satisfied: certifi>=2017.4.17 in d:\\kuliah\\bangkit\\capstone\\ml\\api\\venv\\lib\\site-packages (from requests<3,>=2.21.0->tensorboard<2.16,>=2.15->tensorflow-intel==2.15.0->tensorflow>=2.9.0->tensorflow_recommenders) (2023.11.17)\n",
            "Requirement already satisfied: MarkupSafe>=2.1.1 in d:\\kuliah\\bangkit\\capstone\\ml\\api\\venv\\lib\\site-packages (from werkzeug>=1.0.1->tensorboard<2.16,>=2.15->tensorflow-intel==2.15.0->tensorflow>=2.9.0->tensorflow_recommenders) (2.1.3)\n",
            "Requirement already satisfied: pyasn1<0.6.0,>=0.4.6 in d:\\kuliah\\bangkit\\capstone\\ml\\api\\venv\\lib\\site-packages (from pyasn1-modules>=0.2.1->google-auth<3,>=1.6.3->tensorboard<2.16,>=2.15->tensorflow-intel==2.15.0->tensorflow>=2.9.0->tensorflow_recommenders) (0.5.1)\n",
            "Requirement already satisfied: oauthlib>=3.0.0 in d:\\kuliah\\bangkit\\capstone\\ml\\api\\venv\\lib\\site-packages (from requests-oauthlib>=0.7.0->google-auth-oauthlib<2,>=0.5->tensorboard<2.16,>=2.15->tensorflow-intel==2.15.0->tensorflow>=2.9.0->tensorflow_recommenders) (3.2.2)\n"
          ]
        },
        {
          "name": "stderr",
          "output_type": "stream",
          "text": [
            "\n",
            "[notice] A new release of pip is available: 23.1.2 -> 23.3.1\n",
            "[notice] To update, run: python.exe -m pip install --upgrade pip\n"
          ]
        }
      ],
      "source": [
        "!pip install tensorflow_recommenders"
      ]
    },
    {
      "cell_type": "code",
      "execution_count": 2,
      "metadata": {
        "id": "O8UFJyWMqvzX"
      },
      "outputs": [
        {
          "name": "stdout",
          "output_type": "stream",
          "text": [
            "WARNING:tensorflow:From d:\\Kuliah\\Bangkit\\Capstone\\ML\\API\\venv\\Lib\\site-packages\\keras\\src\\losses.py:2976: The name tf.losses.sparse_softmax_cross_entropy is deprecated. Please use tf.compat.v1.losses.sparse_softmax_cross_entropy instead.\n",
            "\n"
          ]
        }
      ],
      "source": [
        "import pandas as pd\n",
        "import re\n",
        "import numpy as np\n",
        "import tensorflow as tf\n",
        "import tensorflow_recommenders as tfrs\n",
        "from typing import Dict, Text\n",
        "\n",
        "import warnings\n",
        "warnings.filterwarnings('ignore')"
      ]
    },
    {
      "cell_type": "code",
      "execution_count": 3,
      "metadata": {
        "colab": {
          "base_uri": "https://localhost:8080/"
        },
        "id": "FC7pHPicqwgH",
        "outputId": "2eb9b2f4-205c-45e5-e037-c0b74f05ac26"
      },
      "outputs": [],
      "source": [
        "# from google.colab import drive\n",
        "# drive.mount('/content/drive')"
      ]
    },
    {
      "cell_type": "code",
      "execution_count": 4,
      "metadata": {
        "id": "gGCrz9xJRNw4"
      },
      "outputs": [],
      "source": [
        "df_recipes = pd.read_csv('../API/data/recipes_reduce.csv')\n",
        "df_reviews = pd.read_csv('../API/data/reviews_reduce.csv')"
      ]
    },
    {
      "cell_type": "code",
      "execution_count": 5,
      "metadata": {
        "colab": {
          "base_uri": "https://localhost:8080/"
        },
        "id": "6MsXhDslRg52",
        "outputId": "652065c4-2830-408e-ff0c-4629225c1393"
      },
      "outputs": [
        {
          "name": "stdout",
          "output_type": "stream",
          "text": [
            "<class 'pandas.core.frame.DataFrame'>\n",
            "RangeIndex: 63479 entries, 0 to 63478\n",
            "Data columns (total 19 columns):\n",
            " #   Column            Non-Null Count  Dtype  \n",
            "---  ------            --------------  -----  \n",
            " 0   RecipeId          63479 non-null  int64  \n",
            " 1   Name              63479 non-null  object \n",
            " 2   AuthorId          63479 non-null  int64  \n",
            " 3   Description       63478 non-null  object \n",
            " 4   Images            63479 non-null  object \n",
            " 5   RecipeCategory    63437 non-null  object \n",
            " 6   AggregatedRating  63427 non-null  float64\n",
            " 7   ReviewCount       63479 non-null  float64\n",
            " 8   Calories          63479 non-null  float64\n",
            " 9   Fat               63479 non-null  float64\n",
            " 10  SaturatedFat      63479 non-null  float64\n",
            " 11  Cholesterol       63479 non-null  float64\n",
            " 12  Sodium            63479 non-null  float64\n",
            " 13  Carbohydrate      63479 non-null  float64\n",
            " 14  Fiber             63479 non-null  float64\n",
            " 15  Sugar             63479 non-null  float64\n",
            " 16  Protein           63479 non-null  float64\n",
            " 17  Ingredients       63479 non-null  object \n",
            " 18  Instructions      63479 non-null  object \n",
            "dtypes: float64(11), int64(2), object(6)\n",
            "memory usage: 9.2+ MB\n",
            "<class 'pandas.core.frame.DataFrame'>\n",
            "RangeIndex: 670492 entries, 0 to 670491\n",
            "Data columns (total 8 columns):\n",
            " #   Column         Non-Null Count   Dtype \n",
            "---  ------         --------------   ----- \n",
            " 0   ReviewId       670492 non-null  int64 \n",
            " 1   Name           670492 non-null  object\n",
            " 2   RecipeId       670492 non-null  int64 \n",
            " 3   AuthorId       670492 non-null  int64 \n",
            " 4   Rating         670492 non-null  int64 \n",
            " 5   Review         670348 non-null  object\n",
            " 6   DateSubmitted  670492 non-null  object\n",
            " 7   DateModified   670492 non-null  object\n",
            "dtypes: int64(4), object(4)\n",
            "memory usage: 40.9+ MB\n"
          ]
        }
      ],
      "source": [
        "df_recipes.info()\n",
        "df_reviews.info()"
      ]
    },
    {
      "cell_type": "code",
      "execution_count": 6,
      "metadata": {
        "colab": {
          "base_uri": "https://localhost:8080/",
          "height": 538
        },
        "id": "Sm44tA8KSNvD",
        "outputId": "079f7702-bb35-4a33-8678-66c7e2c2a4e8"
      },
      "outputs": [
        {
          "data": {
            "text/html": [
              "<div>\n",
              "<style scoped>\n",
              "    .dataframe tbody tr th:only-of-type {\n",
              "        vertical-align: middle;\n",
              "    }\n",
              "\n",
              "    .dataframe tbody tr th {\n",
              "        vertical-align: top;\n",
              "    }\n",
              "\n",
              "    .dataframe thead th {\n",
              "        text-align: right;\n",
              "    }\n",
              "</style>\n",
              "<table border=\"1\" class=\"dataframe\">\n",
              "  <thead>\n",
              "    <tr style=\"text-align: right;\">\n",
              "      <th></th>\n",
              "      <th>RecipeId</th>\n",
              "      <th>Name</th>\n",
              "      <th>AuthorId</th>\n",
              "      <th>Description</th>\n",
              "      <th>Images</th>\n",
              "      <th>RecipeCategory</th>\n",
              "      <th>AggregatedRating</th>\n",
              "      <th>ReviewCount</th>\n",
              "      <th>Calories</th>\n",
              "      <th>Fat</th>\n",
              "      <th>SaturatedFat</th>\n",
              "      <th>Cholesterol</th>\n",
              "      <th>Sodium</th>\n",
              "      <th>Carbohydrate</th>\n",
              "      <th>Fiber</th>\n",
              "      <th>Sugar</th>\n",
              "      <th>Protein</th>\n",
              "      <th>Ingredients</th>\n",
              "      <th>Instructions</th>\n",
              "    </tr>\n",
              "  </thead>\n",
              "  <tbody>\n",
              "    <tr>\n",
              "      <th>0</th>\n",
              "      <td>38</td>\n",
              "      <td>Low-Fat Berry Blue Frozen Dessert</td>\n",
              "      <td>1533</td>\n",
              "      <td>Make and share this Low-Fat Berry Blue Frozen ...</td>\n",
              "      <td>c(\"https://img.sndimg.com/food/image/upload/w_...</td>\n",
              "      <td>Frozen Desserts</td>\n",
              "      <td>4.5</td>\n",
              "      <td>4.0</td>\n",
              "      <td>170.9</td>\n",
              "      <td>2.5</td>\n",
              "      <td>1.3</td>\n",
              "      <td>8.0</td>\n",
              "      <td>29.8</td>\n",
              "      <td>37.1</td>\n",
              "      <td>3.6</td>\n",
              "      <td>30.2</td>\n",
              "      <td>3.2</td>\n",
              "      <td>['4 \"blueberries\"', '1/4 \"granulated sugar\"', ...</td>\n",
              "      <td>['\"Toss 2 cups berries with sugar.\"', '\"Let st...</td>\n",
              "    </tr>\n",
              "    <tr>\n",
              "      <th>1</th>\n",
              "      <td>41</td>\n",
              "      <td>Carina's Tofu-Vegetable Kebabs</td>\n",
              "      <td>1586</td>\n",
              "      <td>This dish is best prepared a day in advance to...</td>\n",
              "      <td>c(\"https://img.sndimg.com/food/image/upload/w_...</td>\n",
              "      <td>Soy/Tofu</td>\n",
              "      <td>4.5</td>\n",
              "      <td>2.0</td>\n",
              "      <td>536.1</td>\n",
              "      <td>24.0</td>\n",
              "      <td>3.8</td>\n",
              "      <td>0.0</td>\n",
              "      <td>1558.6</td>\n",
              "      <td>64.2</td>\n",
              "      <td>17.3</td>\n",
              "      <td>32.1</td>\n",
              "      <td>29.3</td>\n",
              "      <td>['12 \"extra firm tofu\"', '1 \"eggplant\"', '2 \"z...</td>\n",
              "      <td>['\"Drain the tofu, carefully squeezing out exc...</td>\n",
              "    </tr>\n",
              "    <tr>\n",
              "      <th>2</th>\n",
              "      <td>42</td>\n",
              "      <td>Cabbage Soup</td>\n",
              "      <td>1538</td>\n",
              "      <td>Make and share this Cabbage Soup recipe .</td>\n",
              "      <td>\"https://img.sndimg.com/food/image/upload/w_55...</td>\n",
              "      <td>Vegetable</td>\n",
              "      <td>4.5</td>\n",
              "      <td>11.0</td>\n",
              "      <td>103.6</td>\n",
              "      <td>0.4</td>\n",
              "      <td>0.1</td>\n",
              "      <td>0.0</td>\n",
              "      <td>959.3</td>\n",
              "      <td>25.1</td>\n",
              "      <td>4.8</td>\n",
              "      <td>17.7</td>\n",
              "      <td>4.3</td>\n",
              "      <td>['46 \"plain tomato juice\"', '4 \"cabbage\"', '1 ...</td>\n",
              "      <td>['\"Mix everything together and bring to a boil...</td>\n",
              "    </tr>\n",
              "    <tr>\n",
              "      <th>3</th>\n",
              "      <td>45</td>\n",
              "      <td>Buttermilk Pie With Gingersnap Crumb Crust</td>\n",
              "      <td>1580</td>\n",
              "      <td>Make and share this Buttermilk Pie With Ginger...</td>\n",
              "      <td>\"https://img.sndimg.com/food/image/upload/w_55...</td>\n",
              "      <td>Pie</td>\n",
              "      <td>4.0</td>\n",
              "      <td>3.0</td>\n",
              "      <td>228.0</td>\n",
              "      <td>7.1</td>\n",
              "      <td>1.7</td>\n",
              "      <td>24.5</td>\n",
              "      <td>281.8</td>\n",
              "      <td>37.5</td>\n",
              "      <td>0.5</td>\n",
              "      <td>24.7</td>\n",
              "      <td>4.2</td>\n",
              "      <td>['3/4 \"sugar\"', '1 \"margarine\"', '1 \"egg\"', '2...</td>\n",
              "      <td>['\"Preheat oven to 350°F.\"', '\"Make pie crust,...</td>\n",
              "    </tr>\n",
              "    <tr>\n",
              "      <th>4</th>\n",
              "      <td>47</td>\n",
              "      <td>Butter Pecan Cookies</td>\n",
              "      <td>1573</td>\n",
              "      <td>Make and share this Butter Pecan Cookies recipe .</td>\n",
              "      <td>c(\"https://img.sndimg.com/food/image/upload/w_...</td>\n",
              "      <td>Dessert</td>\n",
              "      <td>4.0</td>\n",
              "      <td>2.0</td>\n",
              "      <td>69.0</td>\n",
              "      <td>5.6</td>\n",
              "      <td>1.4</td>\n",
              "      <td>6.3</td>\n",
              "      <td>15.0</td>\n",
              "      <td>4.5</td>\n",
              "      <td>0.6</td>\n",
              "      <td>1.6</td>\n",
              "      <td>0.8</td>\n",
              "      <td>['3/4 \"butter\"', '1/2 \"brown sugar\"', '1 \"gran...</td>\n",
              "      <td>['\"Preheat oven to 350 degrees.\"', '\"Cream but...</td>\n",
              "    </tr>\n",
              "  </tbody>\n",
              "</table>\n",
              "</div>"
            ],
            "text/plain": [
              "   RecipeId                                        Name  AuthorId  \\\n",
              "0        38           Low-Fat Berry Blue Frozen Dessert      1533   \n",
              "1        41              Carina's Tofu-Vegetable Kebabs      1586   \n",
              "2        42                                Cabbage Soup      1538   \n",
              "3        45  Buttermilk Pie With Gingersnap Crumb Crust      1580   \n",
              "4        47                        Butter Pecan Cookies      1573   \n",
              "\n",
              "                                         Description  \\\n",
              "0  Make and share this Low-Fat Berry Blue Frozen ...   \n",
              "1  This dish is best prepared a day in advance to...   \n",
              "2          Make and share this Cabbage Soup recipe .   \n",
              "3  Make and share this Buttermilk Pie With Ginger...   \n",
              "4  Make and share this Butter Pecan Cookies recipe .   \n",
              "\n",
              "                                              Images   RecipeCategory  \\\n",
              "0  c(\"https://img.sndimg.com/food/image/upload/w_...  Frozen Desserts   \n",
              "1  c(\"https://img.sndimg.com/food/image/upload/w_...         Soy/Tofu   \n",
              "2  \"https://img.sndimg.com/food/image/upload/w_55...        Vegetable   \n",
              "3  \"https://img.sndimg.com/food/image/upload/w_55...              Pie   \n",
              "4  c(\"https://img.sndimg.com/food/image/upload/w_...          Dessert   \n",
              "\n",
              "   AggregatedRating  ReviewCount  Calories   Fat  SaturatedFat  Cholesterol  \\\n",
              "0               4.5          4.0     170.9   2.5           1.3          8.0   \n",
              "1               4.5          2.0     536.1  24.0           3.8          0.0   \n",
              "2               4.5         11.0     103.6   0.4           0.1          0.0   \n",
              "3               4.0          3.0     228.0   7.1           1.7         24.5   \n",
              "4               4.0          2.0      69.0   5.6           1.4          6.3   \n",
              "\n",
              "   Sodium  Carbohydrate  Fiber  Sugar  Protein  \\\n",
              "0    29.8          37.1    3.6   30.2      3.2   \n",
              "1  1558.6          64.2   17.3   32.1     29.3   \n",
              "2   959.3          25.1    4.8   17.7      4.3   \n",
              "3   281.8          37.5    0.5   24.7      4.2   \n",
              "4    15.0           4.5    0.6    1.6      0.8   \n",
              "\n",
              "                                         Ingredients  \\\n",
              "0  ['4 \"blueberries\"', '1/4 \"granulated sugar\"', ...   \n",
              "1  ['12 \"extra firm tofu\"', '1 \"eggplant\"', '2 \"z...   \n",
              "2  ['46 \"plain tomato juice\"', '4 \"cabbage\"', '1 ...   \n",
              "3  ['3/4 \"sugar\"', '1 \"margarine\"', '1 \"egg\"', '2...   \n",
              "4  ['3/4 \"butter\"', '1/2 \"brown sugar\"', '1 \"gran...   \n",
              "\n",
              "                                        Instructions  \n",
              "0  ['\"Toss 2 cups berries with sugar.\"', '\"Let st...  \n",
              "1  ['\"Drain the tofu, carefully squeezing out exc...  \n",
              "2  ['\"Mix everything together and bring to a boil...  \n",
              "3  ['\"Preheat oven to 350°F.\"', '\"Make pie crust,...  \n",
              "4  ['\"Preheat oven to 350 degrees.\"', '\"Cream but...  "
            ]
          },
          "execution_count": 6,
          "metadata": {},
          "output_type": "execute_result"
        }
      ],
      "source": [
        "df_recipes.head()"
      ]
    },
    {
      "cell_type": "code",
      "execution_count": 7,
      "metadata": {
        "colab": {
          "base_uri": "https://localhost:8080/",
          "height": 206
        },
        "id": "QCbKgttLSIfJ",
        "outputId": "0a638b3f-2089-4fb5-fda2-4c32635720d3"
      },
      "outputs": [
        {
          "data": {
            "text/html": [
              "<div>\n",
              "<style scoped>\n",
              "    .dataframe tbody tr th:only-of-type {\n",
              "        vertical-align: middle;\n",
              "    }\n",
              "\n",
              "    .dataframe tbody tr th {\n",
              "        vertical-align: top;\n",
              "    }\n",
              "\n",
              "    .dataframe thead th {\n",
              "        text-align: right;\n",
              "    }\n",
              "</style>\n",
              "<table border=\"1\" class=\"dataframe\">\n",
              "  <thead>\n",
              "    <tr style=\"text-align: right;\">\n",
              "      <th></th>\n",
              "      <th>ReviewId</th>\n",
              "      <th>Name</th>\n",
              "      <th>RecipeId</th>\n",
              "      <th>AuthorId</th>\n",
              "      <th>Rating</th>\n",
              "      <th>Review</th>\n",
              "      <th>DateSubmitted</th>\n",
              "      <th>DateModified</th>\n",
              "    </tr>\n",
              "  </thead>\n",
              "  <tbody>\n",
              "    <tr>\n",
              "      <th>0</th>\n",
              "      <td>17</td>\n",
              "      <td>Spinach and Strawberry Salad</td>\n",
              "      <td>5221</td>\n",
              "      <td>2046</td>\n",
              "      <td>4</td>\n",
              "      <td>love it, but without the bean sprouts.</td>\n",
              "      <td>2000-05-08T11:08:00Z</td>\n",
              "      <td>2000-05-08T11:08:00Z</td>\n",
              "    </tr>\n",
              "    <tr>\n",
              "      <th>1</th>\n",
              "      <td>19</td>\n",
              "      <td>Neiman-Marcus $250 Chocolate Chip Cookies Recipe</td>\n",
              "      <td>13307</td>\n",
              "      <td>2046</td>\n",
              "      <td>5</td>\n",
              "      <td>chewy goodness, not crispy at all. i even thre...</td>\n",
              "      <td>2000-05-21T16:59:00Z</td>\n",
              "      <td>2000-05-21T16:59:00Z</td>\n",
              "    </tr>\n",
              "    <tr>\n",
              "      <th>2</th>\n",
              "      <td>24</td>\n",
              "      <td>Greek Spinach Triangles</td>\n",
              "      <td>278</td>\n",
              "      <td>1773</td>\n",
              "      <td>4</td>\n",
              "      <td>a little greasy, but a huge hit with the guests.</td>\n",
              "      <td>2000-03-13T19:53:00Z</td>\n",
              "      <td>2000-03-13T19:53:00Z</td>\n",
              "    </tr>\n",
              "    <tr>\n",
              "      <th>3</th>\n",
              "      <td>25</td>\n",
              "      <td>Leek, Tomato, Goat Cheese Pizza</td>\n",
              "      <td>3431</td>\n",
              "      <td>2046</td>\n",
              "      <td>5</td>\n",
              "      <td>leeks on a pizza?!  it was really delicious.  ...</td>\n",
              "      <td>2000-04-07T11:06:00Z</td>\n",
              "      <td>2000-04-07T11:06:00Z</td>\n",
              "    </tr>\n",
              "    <tr>\n",
              "      <th>4</th>\n",
              "      <td>26</td>\n",
              "      <td>Spinach and Strawberry Salad</td>\n",
              "      <td>5221</td>\n",
              "      <td>2369</td>\n",
              "      <td>5</td>\n",
              "      <td>I deleted the bean sprouts and replaced them w...</td>\n",
              "      <td>2000-07-18T13:36:56Z</td>\n",
              "      <td>2000-07-18T13:36:56Z</td>\n",
              "    </tr>\n",
              "  </tbody>\n",
              "</table>\n",
              "</div>"
            ],
            "text/plain": [
              "   ReviewId                                              Name  RecipeId  \\\n",
              "0        17                      Spinach and Strawberry Salad      5221   \n",
              "1        19  Neiman-Marcus $250 Chocolate Chip Cookies Recipe     13307   \n",
              "2        24                           Greek Spinach Triangles       278   \n",
              "3        25                   Leek, Tomato, Goat Cheese Pizza      3431   \n",
              "4        26                      Spinach and Strawberry Salad      5221   \n",
              "\n",
              "   AuthorId  Rating                                             Review  \\\n",
              "0      2046       4             love it, but without the bean sprouts.   \n",
              "1      2046       5  chewy goodness, not crispy at all. i even thre...   \n",
              "2      1773       4   a little greasy, but a huge hit with the guests.   \n",
              "3      2046       5  leeks on a pizza?!  it was really delicious.  ...   \n",
              "4      2369       5  I deleted the bean sprouts and replaced them w...   \n",
              "\n",
              "          DateSubmitted          DateModified  \n",
              "0  2000-05-08T11:08:00Z  2000-05-08T11:08:00Z  \n",
              "1  2000-05-21T16:59:00Z  2000-05-21T16:59:00Z  \n",
              "2  2000-03-13T19:53:00Z  2000-03-13T19:53:00Z  \n",
              "3  2000-04-07T11:06:00Z  2000-04-07T11:06:00Z  \n",
              "4  2000-07-18T13:36:56Z  2000-07-18T13:36:56Z  "
            ]
          },
          "execution_count": 7,
          "metadata": {},
          "output_type": "execute_result"
        }
      ],
      "source": [
        "df_reviews.head()"
      ]
    },
    {
      "cell_type": "code",
      "execution_count": 8,
      "metadata": {
        "id": "CVkeAHLGSMJe"
      },
      "outputs": [],
      "source": [
        "df_reviews = df_reviews.astype({'AuthorId': 'string'})\n",
        "\n",
        "\n",
        "Reviews = tf.data.Dataset.from_tensor_slices(dict(df_reviews[['AuthorId', 'Name', 'Rating']]))\n",
        "Recipes = tf.data.Dataset.from_tensor_slices(dict(df_recipes[['Name']]))\n",
        "\n",
        "Reviews = Reviews.map(lambda x: {\n",
        "    \"Name\": x[\"Name\"],\n",
        "    \"AuthorId\": x[\"AuthorId\"],\n",
        "    \"Rating\": float(x[\"Rating\"])\n",
        "})\n",
        "\n",
        "Recipes = Recipes.map(lambda x: x[\"Name\"])"
      ]
    },
    {
      "cell_type": "code",
      "execution_count": 9,
      "metadata": {
        "colab": {
          "base_uri": "https://localhost:8080/"
        },
        "id": "QVeelZQTT7th",
        "outputId": "1d0fcd84-c4f4-440e-f0b4-3f909d06e385"
      },
      "outputs": [
        {
          "name": "stdout",
          "output_type": "stream",
          "text": [
            "Total Data: 670492\n"
          ]
        }
      ],
      "source": [
        "print('Total Data: {}'.format(len(Reviews)))\n",
        "\n",
        "tf.random.set_seed(42)\n",
        "shuffled = Reviews.shuffle(100_000, seed=42, reshuffle_each_iteration=False)\n",
        "\n",
        "train = Reviews.take(35_000)\n",
        "test = Reviews.skip(35_000).take(8_188)"
      ]
    },
    {
      "cell_type": "code",
      "execution_count": 10,
      "metadata": {
        "colab": {
          "base_uri": "https://localhost:8080/"
        },
        "id": "VzCdNatVatnp",
        "outputId": "31af9fa7-4284-463a-8539-b8f1028b538b"
      },
      "outputs": [
        {
          "name": "stdout",
          "output_type": "stream",
          "text": [
            "Unique Recipes: 63479\n",
            "Unique users: 167203\n"
          ]
        }
      ],
      "source": [
        "food_titles = Recipes.batch(1_000)\n",
        "user_ids = Reviews.batch(1_000).map(lambda x: x[\"AuthorId\"])\n",
        "\n",
        "unique_food_titles = np.unique(np.concatenate(list(food_titles)))\n",
        "unique_user_ids = np.unique(np.concatenate(list(user_ids)))\n",
        "\n",
        "print('Unique Recipes: {}'.format(len(unique_food_titles)))\n",
        "print('Unique users: {}'.format(len(unique_user_ids)))"
      ]
    },
    {
      "cell_type": "code",
      "execution_count": 11,
      "metadata": {
        "id": "ItD_bRnmbFIp"
      },
      "outputs": [],
      "source": [
        "class FoodModel(tfrs.models.Model):\n",
        "\n",
        "  def __init__(self, rating_weight: float, retrieval_weight: float) -> None:\n",
        "    # We take the loss weights in the constructor: this allows us to instantiate\n",
        "    # several model objects with different loss weights.\n",
        "\n",
        "    super().__init__()\n",
        "\n",
        "    embedding_dimension = 64\n",
        "\n",
        "    self.food_model: tf.keras.layers.Layer = tf.keras.Sequential([\n",
        "      tf.keras.layers.StringLookup(\n",
        "        vocabulary=unique_food_titles, mask_token=None),\n",
        "      tf.keras.layers.Embedding(len(unique_food_titles) + 1, embedding_dimension)\n",
        "    ])\n",
        "    self.user_model: tf.keras.layers.Layer = tf.keras.Sequential([\n",
        "      tf.keras.layers.StringLookup(\n",
        "        vocabulary=unique_user_ids, mask_token=None),\n",
        "      tf.keras.layers.Embedding(len(unique_user_ids) + 1, embedding_dimension)\n",
        "    ])\n",
        "\n",
        "    # We can make this as complicated as we want as long as we output a scalar\n",
        "    # as our prediction.\n",
        "    self.rating_model = tf.keras.Sequential([\n",
        "        tf.keras.layers.Dense(256, activation=\"relu\"),\n",
        "        tf.keras.layers.Dense(128, activation=\"relu\"),\n",
        "        tf.keras.layers.Dense(1),\n",
        "    ])\n",
        "\n",
        "    # The tasks.\n",
        "    self.rating_task: tf.keras.layers.Layer = tfrs.tasks.Ranking(\n",
        "        loss=tf.keras.losses.MeanSquaredError(),\n",
        "        metrics=[tf.keras.metrics.RootMeanSquaredError()],\n",
        "    )\n",
        "    self.retrieval_task: tf.keras.layers.Layer = tfrs.tasks.Retrieval(\n",
        "        metrics=tfrs.metrics.FactorizedTopK(\n",
        "            candidates=Recipes.batch(128).map(self.food_model)\n",
        "        )\n",
        "    )\n",
        "\n",
        "    # The loss weights.\n",
        "    self.rating_weight = rating_weight\n",
        "    self.retrieval_weight = retrieval_weight\n",
        "\n",
        "  def call(self, features: Dict[Text, tf.Tensor]) -> tf.Tensor:\n",
        "    user_embeddings = self.user_model(features[\"AuthorId\"])\n",
        "    food_embeddings = self.food_model(features[\"Name\"])\n",
        "\n",
        "    return (\n",
        "        user_embeddings,\n",
        "        food_embeddings,\n",
        "        # We apply the multi-layered rating model to a concatentation of\n",
        "        self.rating_model(\n",
        "            tf.concat([user_embeddings, food_embeddings], axis=1)\n",
        "        ),\n",
        "    )\n",
        "\n",
        "  def compute_loss(self, features: Dict[Text, tf.Tensor], training=False) -> tf.Tensor:\n",
        "\n",
        "    ratings = features.pop(\"Rating\")\n",
        "\n",
        "    user_embeddings, food_embeddings, rating_predictions = self(features)\n",
        "\n",
        "    # We compute the loss for each task.\n",
        "    rating_loss = self.rating_task(\n",
        "        labels=ratings,\n",
        "        predictions=rating_predictions,\n",
        "    )\n",
        "    retrieval_loss = self.retrieval_task(user_embeddings, food_embeddings)\n",
        "\n",
        "    # And combine them using the loss weights.\n",
        "    return (self.rating_weight * rating_loss\n",
        "            + self.retrieval_weight * retrieval_loss)"
      ]
    },
    {
      "cell_type": "code",
      "execution_count": 12,
      "metadata": {
        "colab": {
          "base_uri": "https://localhost:8080/"
        },
        "id": "pLV5eBnTcYv7",
        "outputId": "b8a6b68d-8375-40c5-84f2-71922a0e1044"
      },
      "outputs": [
        {
          "name": "stdout",
          "output_type": "stream",
          "text": [
            "WARNING:tensorflow:From d:\\Kuliah\\Bangkit\\Capstone\\ML\\API\\venv\\Lib\\site-packages\\keras\\src\\backend.py:873: The name tf.get_default_graph is deprecated. Please use tf.compat.v1.get_default_graph instead.\n",
            "\n",
            "WARNING:tensorflow:From d:\\Kuliah\\Bangkit\\Capstone\\ML\\API\\venv\\Lib\\site-packages\\keras\\src\\utils\\tf_utils.py:492: The name tf.ragged.RaggedTensorValue is deprecated. Please use tf.compat.v1.ragged.RaggedTensorValue instead.\n",
            "\n",
            "Epoch 1/3\n",
            "35/35 [==============================] - 146s 4s/step - root_mean_squared_error: 1.8702 - factorized_top_k/top_1_categorical_accuracy: 0.0000e+00 - factorized_top_k/top_5_categorical_accuracy: 0.0023 - factorized_top_k/top_10_categorical_accuracy: 0.0047 - factorized_top_k/top_50_categorical_accuracy: 0.0139 - factorized_top_k/top_100_categorical_accuracy: 0.0199 - loss: 6909.5771 - regularization_loss: 0.0000e+00 - total_loss: 6909.5771\n",
            "Epoch 2/3\n",
            "35/35 [==============================] - 125s 4s/step - root_mean_squared_error: 1.0254 - factorized_top_k/top_1_categorical_accuracy: 0.0017 - factorized_top_k/top_5_categorical_accuracy: 0.0731 - factorized_top_k/top_10_categorical_accuracy: 0.1084 - factorized_top_k/top_50_categorical_accuracy: 0.2298 - factorized_top_k/top_100_categorical_accuracy: 0.3135 - loss: 6727.0597 - regularization_loss: 0.0000e+00 - total_loss: 6727.0597\n",
            "Epoch 3/3\n",
            "35/35 [==============================] - 143s 4s/step - root_mean_squared_error: 1.0732 - factorized_top_k/top_1_categorical_accuracy: 0.0111 - factorized_top_k/top_5_categorical_accuracy: 0.1729 - factorized_top_k/top_10_categorical_accuracy: 0.2192 - factorized_top_k/top_50_categorical_accuracy: 0.3926 - factorized_top_k/top_100_categorical_accuracy: 0.5589 - loss: 6049.1503 - regularization_loss: 0.0000e+00 - total_loss: 6049.1503\n"
          ]
        },
        {
          "data": {
            "text/plain": [
              "<keras.src.callbacks.History at 0x1ac74a36d50>"
            ]
          },
          "execution_count": 12,
          "metadata": {},
          "output_type": "execute_result"
        }
      ],
      "source": [
        "model = FoodModel(rating_weight=1.0, retrieval_weight=1.0)\n",
        "model.compile(optimizer=tf.keras.optimizers.Adagrad(0.1))\n",
        "\n",
        "cached_train = train.shuffle(100_000).batch(1_000).cache()\n",
        "cached_test = test.batch(1_000).cache()\n",
        "\n",
        "model.fit(cached_train, epochs=3)"
      ]
    },
    {
      "cell_type": "code",
      "execution_count": 13,
      "metadata": {
        "colab": {
          "base_uri": "https://localhost:8080/"
        },
        "id": "wcBRmYcxu_Vu",
        "outputId": "14b843d5-d936-4c94-bf9d-03e2ce870178"
      },
      "outputs": [
        {
          "name": "stdout",
          "output_type": "stream",
          "text": [
            "9/9 [==============================] - 48s 5s/step - root_mean_squared_error: 1.1031 - factorized_top_k/top_1_categorical_accuracy: 2.4426e-04 - factorized_top_k/top_5_categorical_accuracy: 9.7704e-04 - factorized_top_k/top_10_categorical_accuracy: 0.0024 - factorized_top_k/top_50_categorical_accuracy: 0.0128 - factorized_top_k/top_100_categorical_accuracy: 0.0239 - loss: 5840.4548 - regularization_loss: 0.0000e+00 - total_loss: 5840.4548\n",
            "\n",
            "Retrieval top-100 accuracy: 0.024\n",
            "Ranking RMSE: 1.103\n"
          ]
        }
      ],
      "source": [
        "metrics = model.evaluate(cached_test, return_dict=True)\n",
        "\n",
        "print(f\"\\nRetrieval top-100 accuracy: {metrics['factorized_top_k/top_100_categorical_accuracy']:.3f}\")\n",
        "print(f\"Ranking RMSE: {metrics['root_mean_squared_error']:.3f}\")"
      ]
    },
    {
      "cell_type": "code",
      "execution_count": 14,
      "metadata": {
        "colab": {
          "base_uri": "https://localhost:8080/"
        },
        "id": "WeWvslIrvCKc",
        "outputId": "dd5424d4-9446-477d-80f4-798d0e99ebfe"
      },
      "outputs": [
        {
          "name": "stdout",
          "output_type": "stream",
          "text": [
            "Top 5 recommendations for user 1584953:\n",
            "\n",
            "1. Venus De Milo Soup\n",
            "2. Soft Chocolate Chip Cookies\n",
            "3. Easy Breakfast Casserole\n",
            "4. Broiled Chipotle Chicken With Creamy Spinach\n",
            "5. Rigatoni and Sausage Bake\n"
          ]
        }
      ],
      "source": [
        "random_user_id = df_reviews['AuthorId'].sample(1).values[0]\n",
        "\n",
        "def predict_food_for_random_user(top_n=2):\n",
        "    index = tfrs.layers.factorized_top_k.BruteForce(model.user_model)\n",
        "    index.index_from_dataset(\n",
        "      tf.data.Dataset.zip((Recipes.batch(100), Recipes.batch(100).map(model.food_model)))\n",
        "    )\n",
        "\n",
        "    _, titles = index(tf.constant([str(random_user_id)]))\n",
        "\n",
        "    print('Top {} recommendations for user {}:\\n'.format(top_n, random_user_id))\n",
        "    for i, title in enumerate(titles[0, :top_n].numpy()):\n",
        "        print('{}. {}'.format(i+1, title.decode(\"utf-8\")))\n",
        "\n",
        "predict_food_for_random_user(top_n=5)\n"
      ]
    },
    {
      "cell_type": "code",
      "execution_count": 15,
      "metadata": {
        "colab": {
          "base_uri": "https://localhost:8080/"
        },
        "id": "xmo9oGHAwGX4",
        "outputId": "b7c5af87-3400-4c85-a366-fc0148c52459"
      },
      "outputs": [
        {
          "name": "stdout",
          "output_type": "stream",
          "text": [
            "Top 5 recommendations for user 369603:\n",
            "\n",
            "1. Spinach Meatloaf\n",
            "   Image URL: https://img.sndimg.com/food/image/upload/w_555,h_416,c_fit,fl_progressive,q_95/v1/img/recipes/12/67/7/picCwErNS.jpg\n",
            "\n",
            "2. Dana's Homemade Kahlua\n",
            "   Image URL: https://img.sndimg.com/food/image/upload/w_555,h_416,c_fit,fl_progressive,q_95/v1/img/recipes/18/45/8/COtZWZxwSpC5XpOaSCJX_Dana%27s Homemade Kahlua_0228.JPG\n",
            "\n",
            "3. Pacific Rim Chicken Burgers With Ginger Mayonnaise\n",
            "   Image URL: https://img.sndimg.com/food/image/upload/w_555,h_416,c_fit,fl_progressive,q_95/v1/img/recipes/65/29/7/pic0BpFfA.jpg\n",
            "\n",
            "4. Chocolate Sponge Cake\n",
            "   Image URL: https://img.sndimg.com/food/image/upload/w_555,h_416,c_fit,fl_progressive,q_95/v1/img/recipes/25/34/0/BpLFe1mZTMeFTsHbzCxw_chocolate-sponge-cake-1382.jpg\n",
            "\n",
            "5. Garlic Shoyu Chicken\n",
            "   Image URL: https://img.sndimg.com/food/image/upload/w_555,h_416,c_fit,fl_progressive,q_95/v1/img/recipes/59/17/9/picn0LeO1.jpg\n",
            "\n"
          ]
        }
      ],
      "source": [
        "random_user_id = df_reviews['AuthorId'].sample(1).values[0]\n",
        "\n",
        "def recommend_food_for_random_user(model, top_n):\n",
        "    index = tfrs.layers.factorized_top_k.BruteForce(model.user_model)\n",
        "    index.index_from_dataset(\n",
        "        tf.data.Dataset.zip((Recipes.batch(100), Recipes.batch(100).map(model.food_model)))\n",
        "    )\n",
        "\n",
        "    _, titles = index(tf.constant([str(random_user_id)]))\n",
        "\n",
        "    recommended_titles = [title.decode(\"utf-8\") for title in titles[0, :top_n].numpy()]\n",
        "    return recommended_titles\n",
        "\n",
        "# Function to get image URL for a given recipe name\n",
        "def get_image_url(recipe_df, recipe_name, image_column='Images'):\n",
        "    image_urls = recipe_df[recipe_df['Name'] == recipe_name][image_column].values\n",
        "    if len(image_urls) > 0:\n",
        "        match = re.search(r'https://.*?\\.(jpg|JPG)', image_urls[0])\n",
        "        if match:\n",
        "            return match.group()\n",
        "    return None\n",
        "\n",
        "# Function to recommend food and display images\n",
        "def recommend_food_with_images(model, recipe_df, top_n):\n",
        "    recommended_titles = recommend_food_for_random_user(model, top_n=top_n)\n",
        "\n",
        "    print('Top {} recommendations for user {}:\\n'.format(top_n, random_user_id))\n",
        "    for i, title in enumerate(recommended_titles):\n",
        "        image_url = get_image_url(recipe_df, title)\n",
        "        print('{}. {}\\n   Image URL: {}\\n'.format(i+1, title, image_url))\n",
        "\n",
        "# Call the function to recommend food with images\n",
        "recommend_food_with_images(model, df_recipes, top_n=5)\n"
      ]
    },
    {
      "cell_type": "code",
      "execution_count": 16,
      "metadata": {
        "id": "UBvbOH_XhbjZ"
      },
      "outputs": [],
      "source": [
        "# Load the saved weights\n",
        "model.save_weights('../API/model/food_recommendation_model.h5')"
      ]
    }
  ],
  "metadata": {
    "colab": {
      "authorship_tag": "ABX9TyNzUWFGsLI0AzY8dsXO8c3m",
      "include_colab_link": true,
      "provenance": []
    },
    "kernelspec": {
      "display_name": "Python 3",
      "name": "python3"
    },
    "language_info": {
      "codemirror_mode": {
        "name": "ipython",
        "version": 3
      },
      "file_extension": ".py",
      "mimetype": "text/x-python",
      "name": "python",
      "nbconvert_exporter": "python",
      "pygments_lexer": "ipython3",
      "version": "3.11.4"
    }
  },
  "nbformat": 4,
  "nbformat_minor": 0
}
